{
 "cells": [
  {
   "cell_type": "markdown",
   "metadata": {},
   "source": [
    "# LOGISTIC REGRESSION"
   ]
  },
  {
   "cell_type": "markdown",
   "metadata": {},
   "source": [
    "## AGENDA\n",
    "1. Refresh your memory on how to do linear regression in scikit-learn\n",
    "2. Attempt to use linear regression for classification\n",
    "3. Show you why logistic regression is a better alternative for classification\n",
    "4. Brief overview of probability, odds, e, log, and log-odds\n",
    "5. Explain the form of logistic regression\n",
    "6. Compare logistic regression with other models"
   ]
  },
  {
   "cell_type": "markdown",
   "metadata": {},
   "source": [
    "## PART 1: PREDICTING A CATEGORICAL RESPONSE"
   ]
  },
  {
   "cell_type": "code",
   "execution_count": 1,
   "metadata": {
    "scrolled": true
   },
   "outputs": [],
   "source": [
    "%matplotlib inline\n",
    "import matplotlib.pyplot as plt\n",
    "import numpy as np\n",
    "import pandas as pd\n",
    "\n",
    "import warnings\n",
    "warnings.filterwarnings(\"ignore\", category=FutureWarning)"
   ]
  },
  {
   "cell_type": "code",
   "execution_count": 2,
   "metadata": {
    "scrolled": true
   },
   "outputs": [
    {
     "data": {
      "text/html": [
       "<div>\n",
       "<style scoped>\n",
       "    .dataframe tbody tr th:only-of-type {\n",
       "        vertical-align: middle;\n",
       "    }\n",
       "\n",
       "    .dataframe tbody tr th {\n",
       "        vertical-align: top;\n",
       "    }\n",
       "\n",
       "    .dataframe thead th {\n",
       "        text-align: right;\n",
       "    }\n",
       "</style>\n",
       "<table border=\"1\" class=\"dataframe\">\n",
       "  <thead>\n",
       "    <tr style=\"text-align: right;\">\n",
       "      <th></th>\n",
       "      <th>ri</th>\n",
       "      <th>na</th>\n",
       "      <th>mg</th>\n",
       "      <th>al</th>\n",
       "      <th>si</th>\n",
       "      <th>k</th>\n",
       "      <th>ca</th>\n",
       "      <th>ba</th>\n",
       "      <th>fe</th>\n",
       "      <th>glass_type</th>\n",
       "      <th>assorted</th>\n",
       "    </tr>\n",
       "    <tr>\n",
       "      <th>id</th>\n",
       "      <th></th>\n",
       "      <th></th>\n",
       "      <th></th>\n",
       "      <th></th>\n",
       "      <th></th>\n",
       "      <th></th>\n",
       "      <th></th>\n",
       "      <th></th>\n",
       "      <th></th>\n",
       "      <th></th>\n",
       "      <th></th>\n",
       "    </tr>\n",
       "  </thead>\n",
       "  <tbody>\n",
       "    <tr>\n",
       "      <th>1</th>\n",
       "      <td>1.52101</td>\n",
       "      <td>13.64</td>\n",
       "      <td>4.49</td>\n",
       "      <td>1.10</td>\n",
       "      <td>71.78</td>\n",
       "      <td>0.06</td>\n",
       "      <td>8.75</td>\n",
       "      <td>0.0</td>\n",
       "      <td>0.0</td>\n",
       "      <td>1</td>\n",
       "      <td>0</td>\n",
       "    </tr>\n",
       "    <tr>\n",
       "      <th>2</th>\n",
       "      <td>1.51761</td>\n",
       "      <td>13.89</td>\n",
       "      <td>3.60</td>\n",
       "      <td>1.36</td>\n",
       "      <td>72.73</td>\n",
       "      <td>0.48</td>\n",
       "      <td>7.83</td>\n",
       "      <td>0.0</td>\n",
       "      <td>0.0</td>\n",
       "      <td>1</td>\n",
       "      <td>0</td>\n",
       "    </tr>\n",
       "    <tr>\n",
       "      <th>3</th>\n",
       "      <td>1.51618</td>\n",
       "      <td>13.53</td>\n",
       "      <td>3.55</td>\n",
       "      <td>1.54</td>\n",
       "      <td>72.99</td>\n",
       "      <td>0.39</td>\n",
       "      <td>7.78</td>\n",
       "      <td>0.0</td>\n",
       "      <td>0.0</td>\n",
       "      <td>1</td>\n",
       "      <td>0</td>\n",
       "    </tr>\n",
       "    <tr>\n",
       "      <th>4</th>\n",
       "      <td>1.51766</td>\n",
       "      <td>13.21</td>\n",
       "      <td>3.69</td>\n",
       "      <td>1.29</td>\n",
       "      <td>72.61</td>\n",
       "      <td>0.57</td>\n",
       "      <td>8.22</td>\n",
       "      <td>0.0</td>\n",
       "      <td>0.0</td>\n",
       "      <td>1</td>\n",
       "      <td>0</td>\n",
       "    </tr>\n",
       "    <tr>\n",
       "      <th>5</th>\n",
       "      <td>1.51742</td>\n",
       "      <td>13.27</td>\n",
       "      <td>3.62</td>\n",
       "      <td>1.24</td>\n",
       "      <td>73.08</td>\n",
       "      <td>0.55</td>\n",
       "      <td>8.07</td>\n",
       "      <td>0.0</td>\n",
       "      <td>0.0</td>\n",
       "      <td>1</td>\n",
       "      <td>0</td>\n",
       "    </tr>\n",
       "  </tbody>\n",
       "</table>\n",
       "</div>"
      ],
      "text/plain": [
       "         ri     na    mg    al     si     k    ca   ba   fe  glass_type  \\\n",
       "id                                                                        \n",
       "1   1.52101  13.64  4.49  1.10  71.78  0.06  8.75  0.0  0.0           1   \n",
       "2   1.51761  13.89  3.60  1.36  72.73  0.48  7.83  0.0  0.0           1   \n",
       "3   1.51618  13.53  3.55  1.54  72.99  0.39  7.78  0.0  0.0           1   \n",
       "4   1.51766  13.21  3.69  1.29  72.61  0.57  8.22  0.0  0.0           1   \n",
       "5   1.51742  13.27  3.62  1.24  73.08  0.55  8.07  0.0  0.0           1   \n",
       "\n",
       "    assorted  \n",
       "id            \n",
       "1          0  \n",
       "2          0  \n",
       "3          0  \n",
       "4          0  \n",
       "5          0  "
      ]
     },
     "execution_count": 2,
     "metadata": {},
     "output_type": "execute_result"
    }
   ],
   "source": [
    "# glass identification dataset\n",
    "url = 'http://archive.ics.uci.edu/ml/machine-learning-databases/glass/glass.data'\n",
    "col_names = ['id','ri','na','mg','al','si','k','ca','ba','fe','glass_type']\n",
    "glass = pd.read_csv(url, names=col_names, index_col='id')\n",
    "glass['assorted'] = glass.glass_type.map({1:0, 2:0, 3:0, 4:0, 5:1, 6:1, 7:1})\n",
    "glass.head()"
   ]
  },
  {
   "cell_type": "markdown",
   "metadata": {},
   "source": [
    "## PART 2: USING LOGISTIC REGRESSION"
   ]
  },
  {
   "cell_type": "code",
   "execution_count": 3,
   "metadata": {
    "scrolled": true
   },
   "outputs": [],
   "source": [
    "# Logistic regression can do what we just did:\n",
    "# fit a linear regression model and store the class predictions\n",
    "from sklearn.linear_model import LogisticRegression\n",
    "logreg = LogisticRegression(C=1e9)\n",
    "feature_cols = ['al']\n",
    "X = glass[feature_cols]\n",
    "y = glass.assorted\n",
    "logreg.fit(X, y)\n",
    "assorted_pred_class = logreg.predict(X)"
   ]
  },
  {
   "cell_type": "code",
   "execution_count": 5,
   "metadata": {},
   "outputs": [],
   "source": [
    "LogisticRegression?"
   ]
  },
  {
   "cell_type": "code",
   "execution_count": 6,
   "metadata": {},
   "outputs": [
    {
     "data": {
      "text/plain": [
       "(214, 11)"
      ]
     },
     "execution_count": 6,
     "metadata": {},
     "output_type": "execute_result"
    }
   ],
   "source": [
    "glass.shape"
   ]
  },
  {
   "cell_type": "code",
   "execution_count": 7,
   "metadata": {
    "scrolled": true
   },
   "outputs": [
    {
     "data": {
      "text/plain": [
       "array([0, 0, 0, 0, 0, 0, 0, 0, 0, 0, 0, 0, 0, 0, 0, 0, 0, 0, 0, 0, 0, 0,\n",
       "       0, 0, 0, 0, 0, 0, 0, 0, 0, 0, 0, 0, 0, 0, 0, 0, 0, 0, 0, 0, 0, 0,\n",
       "       0, 0, 0, 0, 0, 0, 0, 0, 0, 0, 0, 0, 0, 0, 0, 0, 0, 0, 0, 0, 0, 0,\n",
       "       0, 0, 0, 0, 0, 0, 0, 0, 0, 0, 0, 0, 0, 1, 1, 0, 0, 0, 1, 0, 0, 0,\n",
       "       0, 1, 0, 0, 0, 0, 0, 0, 0, 0, 0, 0, 0, 0, 0, 0, 0, 1, 1, 0, 0, 0,\n",
       "       0, 0, 0, 0, 0, 0, 0, 0, 0, 0, 0, 0, 0, 0, 0, 0, 0, 0, 0, 0, 0, 0,\n",
       "       0, 0, 0, 0, 0, 0, 0, 0, 0, 0, 0, 0, 0, 0, 0, 0, 0, 0, 0, 0, 0, 0,\n",
       "       0, 0, 0, 0, 0, 0, 0, 0, 0, 1, 1, 0, 0, 0, 0, 0, 0, 1, 1, 0, 1, 0,\n",
       "       0, 0, 0, 0, 0, 0, 1, 0, 0, 0, 1, 0, 1, 0, 0, 1, 1, 1, 1, 1, 1, 1,\n",
       "       1, 1, 1, 0, 1, 1, 1, 0, 1, 0, 1, 1, 1, 1, 1, 1], dtype=int64)"
      ]
     },
     "execution_count": 7,
     "metadata": {},
     "output_type": "execute_result"
    }
   ],
   "source": [
    "# print the class predictions\n",
    "assorted_pred_class"
   ]
  },
  {
   "cell_type": "code",
   "execution_count": 8,
   "metadata": {},
   "outputs": [
    {
     "data": {
      "text/html": [
       "<div>\n",
       "<style scoped>\n",
       "    .dataframe tbody tr th:only-of-type {\n",
       "        vertical-align: middle;\n",
       "    }\n",
       "\n",
       "    .dataframe tbody tr th {\n",
       "        vertical-align: top;\n",
       "    }\n",
       "\n",
       "    .dataframe thead th {\n",
       "        text-align: right;\n",
       "    }\n",
       "</style>\n",
       "<table border=\"1\" class=\"dataframe\">\n",
       "  <thead>\n",
       "    <tr style=\"text-align: right;\">\n",
       "      <th></th>\n",
       "      <th>ri</th>\n",
       "      <th>na</th>\n",
       "      <th>mg</th>\n",
       "      <th>al</th>\n",
       "      <th>si</th>\n",
       "      <th>k</th>\n",
       "      <th>ca</th>\n",
       "      <th>ba</th>\n",
       "      <th>fe</th>\n",
       "      <th>glass_type</th>\n",
       "      <th>assorted</th>\n",
       "    </tr>\n",
       "    <tr>\n",
       "      <th>id</th>\n",
       "      <th></th>\n",
       "      <th></th>\n",
       "      <th></th>\n",
       "      <th></th>\n",
       "      <th></th>\n",
       "      <th></th>\n",
       "      <th></th>\n",
       "      <th></th>\n",
       "      <th></th>\n",
       "      <th></th>\n",
       "      <th></th>\n",
       "    </tr>\n",
       "  </thead>\n",
       "  <tbody>\n",
       "    <tr>\n",
       "      <th>1</th>\n",
       "      <td>1.52101</td>\n",
       "      <td>13.64</td>\n",
       "      <td>4.49</td>\n",
       "      <td>1.10</td>\n",
       "      <td>71.78</td>\n",
       "      <td>0.06</td>\n",
       "      <td>8.75</td>\n",
       "      <td>0.0</td>\n",
       "      <td>0.0</td>\n",
       "      <td>1</td>\n",
       "      <td>0</td>\n",
       "    </tr>\n",
       "    <tr>\n",
       "      <th>2</th>\n",
       "      <td>1.51761</td>\n",
       "      <td>13.89</td>\n",
       "      <td>3.60</td>\n",
       "      <td>1.36</td>\n",
       "      <td>72.73</td>\n",
       "      <td>0.48</td>\n",
       "      <td>7.83</td>\n",
       "      <td>0.0</td>\n",
       "      <td>0.0</td>\n",
       "      <td>1</td>\n",
       "      <td>0</td>\n",
       "    </tr>\n",
       "    <tr>\n",
       "      <th>3</th>\n",
       "      <td>1.51618</td>\n",
       "      <td>13.53</td>\n",
       "      <td>3.55</td>\n",
       "      <td>1.54</td>\n",
       "      <td>72.99</td>\n",
       "      <td>0.39</td>\n",
       "      <td>7.78</td>\n",
       "      <td>0.0</td>\n",
       "      <td>0.0</td>\n",
       "      <td>1</td>\n",
       "      <td>0</td>\n",
       "    </tr>\n",
       "    <tr>\n",
       "      <th>4</th>\n",
       "      <td>1.51766</td>\n",
       "      <td>13.21</td>\n",
       "      <td>3.69</td>\n",
       "      <td>1.29</td>\n",
       "      <td>72.61</td>\n",
       "      <td>0.57</td>\n",
       "      <td>8.22</td>\n",
       "      <td>0.0</td>\n",
       "      <td>0.0</td>\n",
       "      <td>1</td>\n",
       "      <td>0</td>\n",
       "    </tr>\n",
       "    <tr>\n",
       "      <th>5</th>\n",
       "      <td>1.51742</td>\n",
       "      <td>13.27</td>\n",
       "      <td>3.62</td>\n",
       "      <td>1.24</td>\n",
       "      <td>73.08</td>\n",
       "      <td>0.55</td>\n",
       "      <td>8.07</td>\n",
       "      <td>0.0</td>\n",
       "      <td>0.0</td>\n",
       "      <td>1</td>\n",
       "      <td>0</td>\n",
       "    </tr>\n",
       "  </tbody>\n",
       "</table>\n",
       "</div>"
      ],
      "text/plain": [
       "         ri     na    mg    al     si     k    ca   ba   fe  glass_type  \\\n",
       "id                                                                        \n",
       "1   1.52101  13.64  4.49  1.10  71.78  0.06  8.75  0.0  0.0           1   \n",
       "2   1.51761  13.89  3.60  1.36  72.73  0.48  7.83  0.0  0.0           1   \n",
       "3   1.51618  13.53  3.55  1.54  72.99  0.39  7.78  0.0  0.0           1   \n",
       "4   1.51766  13.21  3.69  1.29  72.61  0.57  8.22  0.0  0.0           1   \n",
       "5   1.51742  13.27  3.62  1.24  73.08  0.55  8.07  0.0  0.0           1   \n",
       "\n",
       "    assorted  \n",
       "id            \n",
       "1          0  \n",
       "2          0  \n",
       "3          0  \n",
       "4          0  \n",
       "5          0  "
      ]
     },
     "execution_count": 8,
     "metadata": {},
     "output_type": "execute_result"
    }
   ],
   "source": [
    "glass.head()"
   ]
  },
  {
   "cell_type": "code",
   "execution_count": 9,
   "metadata": {
    "scrolled": true
   },
   "outputs": [],
   "source": [
    "# add predicted class to DataFrame\n",
    "glass['assorted_pred_class'] = assorted_pred_class"
   ]
  },
  {
   "cell_type": "code",
   "execution_count": 10,
   "metadata": {},
   "outputs": [
    {
     "data": {
      "text/html": [
       "<div>\n",
       "<style scoped>\n",
       "    .dataframe tbody tr th:only-of-type {\n",
       "        vertical-align: middle;\n",
       "    }\n",
       "\n",
       "    .dataframe tbody tr th {\n",
       "        vertical-align: top;\n",
       "    }\n",
       "\n",
       "    .dataframe thead th {\n",
       "        text-align: right;\n",
       "    }\n",
       "</style>\n",
       "<table border=\"1\" class=\"dataframe\">\n",
       "  <thead>\n",
       "    <tr style=\"text-align: right;\">\n",
       "      <th></th>\n",
       "      <th>ri</th>\n",
       "      <th>na</th>\n",
       "      <th>mg</th>\n",
       "      <th>al</th>\n",
       "      <th>si</th>\n",
       "      <th>k</th>\n",
       "      <th>ca</th>\n",
       "      <th>ba</th>\n",
       "      <th>fe</th>\n",
       "      <th>glass_type</th>\n",
       "      <th>assorted</th>\n",
       "      <th>assorted_pred_class</th>\n",
       "    </tr>\n",
       "    <tr>\n",
       "      <th>id</th>\n",
       "      <th></th>\n",
       "      <th></th>\n",
       "      <th></th>\n",
       "      <th></th>\n",
       "      <th></th>\n",
       "      <th></th>\n",
       "      <th></th>\n",
       "      <th></th>\n",
       "      <th></th>\n",
       "      <th></th>\n",
       "      <th></th>\n",
       "      <th></th>\n",
       "    </tr>\n",
       "  </thead>\n",
       "  <tbody>\n",
       "    <tr>\n",
       "      <th>1</th>\n",
       "      <td>1.52101</td>\n",
       "      <td>13.64</td>\n",
       "      <td>4.49</td>\n",
       "      <td>1.10</td>\n",
       "      <td>71.78</td>\n",
       "      <td>0.06</td>\n",
       "      <td>8.75</td>\n",
       "      <td>0.0</td>\n",
       "      <td>0.0</td>\n",
       "      <td>1</td>\n",
       "      <td>0</td>\n",
       "      <td>0</td>\n",
       "    </tr>\n",
       "    <tr>\n",
       "      <th>2</th>\n",
       "      <td>1.51761</td>\n",
       "      <td>13.89</td>\n",
       "      <td>3.60</td>\n",
       "      <td>1.36</td>\n",
       "      <td>72.73</td>\n",
       "      <td>0.48</td>\n",
       "      <td>7.83</td>\n",
       "      <td>0.0</td>\n",
       "      <td>0.0</td>\n",
       "      <td>1</td>\n",
       "      <td>0</td>\n",
       "      <td>0</td>\n",
       "    </tr>\n",
       "    <tr>\n",
       "      <th>3</th>\n",
       "      <td>1.51618</td>\n",
       "      <td>13.53</td>\n",
       "      <td>3.55</td>\n",
       "      <td>1.54</td>\n",
       "      <td>72.99</td>\n",
       "      <td>0.39</td>\n",
       "      <td>7.78</td>\n",
       "      <td>0.0</td>\n",
       "      <td>0.0</td>\n",
       "      <td>1</td>\n",
       "      <td>0</td>\n",
       "      <td>0</td>\n",
       "    </tr>\n",
       "    <tr>\n",
       "      <th>4</th>\n",
       "      <td>1.51766</td>\n",
       "      <td>13.21</td>\n",
       "      <td>3.69</td>\n",
       "      <td>1.29</td>\n",
       "      <td>72.61</td>\n",
       "      <td>0.57</td>\n",
       "      <td>8.22</td>\n",
       "      <td>0.0</td>\n",
       "      <td>0.0</td>\n",
       "      <td>1</td>\n",
       "      <td>0</td>\n",
       "      <td>0</td>\n",
       "    </tr>\n",
       "    <tr>\n",
       "      <th>5</th>\n",
       "      <td>1.51742</td>\n",
       "      <td>13.27</td>\n",
       "      <td>3.62</td>\n",
       "      <td>1.24</td>\n",
       "      <td>73.08</td>\n",
       "      <td>0.55</td>\n",
       "      <td>8.07</td>\n",
       "      <td>0.0</td>\n",
       "      <td>0.0</td>\n",
       "      <td>1</td>\n",
       "      <td>0</td>\n",
       "      <td>0</td>\n",
       "    </tr>\n",
       "  </tbody>\n",
       "</table>\n",
       "</div>"
      ],
      "text/plain": [
       "         ri     na    mg    al     si     k    ca   ba   fe  glass_type  \\\n",
       "id                                                                        \n",
       "1   1.52101  13.64  4.49  1.10  71.78  0.06  8.75  0.0  0.0           1   \n",
       "2   1.51761  13.89  3.60  1.36  72.73  0.48  7.83  0.0  0.0           1   \n",
       "3   1.51618  13.53  3.55  1.54  72.99  0.39  7.78  0.0  0.0           1   \n",
       "4   1.51766  13.21  3.69  1.29  72.61  0.57  8.22  0.0  0.0           1   \n",
       "5   1.51742  13.27  3.62  1.24  73.08  0.55  8.07  0.0  0.0           1   \n",
       "\n",
       "    assorted  assorted_pred_class  \n",
       "id                                 \n",
       "1          0                    0  \n",
       "2          0                    0  \n",
       "3          0                    0  \n",
       "4          0                    0  \n",
       "5          0                    0  "
      ]
     },
     "execution_count": 10,
     "metadata": {},
     "output_type": "execute_result"
    }
   ],
   "source": [
    "glass.head()"
   ]
  },
  {
   "cell_type": "code",
   "execution_count": 12,
   "metadata": {
    "scrolled": true
   },
   "outputs": [],
   "source": [
    "# sort DataFrame by al\n",
    "glass.sort_values('al', inplace=True)"
   ]
  },
  {
   "cell_type": "code",
   "execution_count": 13,
   "metadata": {
    "scrolled": true
   },
   "outputs": [
    {
     "data": {
      "text/plain": [
       "[<matplotlib.lines.Line2D at 0x18c41a56518>]"
      ]
     },
     "execution_count": 13,
     "metadata": {},
     "output_type": "execute_result"
    },
    {
     "data": {
      "image/png": "[encoded data removed]",
      "text/plain": [
       "<Figure size 432x288 with 1 Axes>"
      ]
     },
     "execution_count": 13,
     "metadata": {
      "needs_background": "light"
     },
     "output_type": "execute_result"
    }
   ],
   "source": [
    "# plot the class predictions again\n",
    "plt.scatter(glass.al, glass.assorted)\n",
    "plt.plot(glass.al, glass.assorted_pred_class, color='red')"
   ]
  },
  {
   "cell_type": "markdown",
   "metadata": {},
   "source": [
    "### What if we wanted the **predicted probabilities** instead of just the **class predictions**, to understand how confident we are in a given prediction?"
   ]
  },
  {
   "cell_type": "code",
   "execution_count": 14,
   "metadata": {},
   "outputs": [
    {
     "data": {
      "text/plain": [
       "array([[9.57512963e-01, 4.24870368e-02],\n",
       "       [8.83729869e-01, 1.16270131e-01],\n",
       "       [7.81727605e-01, 2.18272395e-01],\n",
       "       [9.10590269e-01, 8.94097310e-02],\n",
       "       [9.26210406e-01, 7.37895944e-02],\n",
       "       [7.19368281e-01, 2.80631719e-01],\n",
       "       [9.50165283e-01, 4.98347166e-02],\n",
       "       [9.65248419e-01, 3.47515807e-02],\n",
       "       [8.79365064e-01, 1.20634936e-01],\n",
       "       [8.83729869e-01, 1.16270131e-01],\n",
       "       [7.67126168e-01, 2.32873832e-01],\n",
       "       [9.17167650e-01, 8.28323504e-02],\n",
       "       [8.65415687e-01, 1.34584313e-01],\n",
       "       [9.17167650e-01, 8.28323504e-02],\n",
       "       [9.03545531e-01, 9.64544686e-02],\n",
       "       [9.29017074e-01, 7.09829263e-02],\n",
       "       [9.46053995e-01, 5.39460046e-02],\n",
       "       [9.81890179e-01, 1.81098214e-02],\n",
       "       [9.41624370e-01, 5.83756296e-02],\n",
       "       [6.56717894e-01, 3.43282106e-01],\n",
       "       [8.15293899e-01, 1.84706101e-01],\n",
       "       [9.98500716e-01, 1.49928375e-03],\n",
       "       [9.10590269e-01, 8.94097310e-02],\n",
       "       [8.87956869e-01, 1.12043131e-01],\n",
       "       [9.48148145e-01, 5.18518549e-02],\n",
       "       [9.34336646e-01, 6.56633537e-02],\n",
       "       [8.60471912e-01, 1.39528088e-01],\n",
       "       [8.96009117e-01, 1.03990883e-01],\n",
       "       [8.50128209e-01, 1.49871791e-01],\n",
       "       [9.13935859e-01, 8.60641409e-02],\n",
       "       [9.07127841e-01, 9.28721593e-02],\n",
       "       [9.50165283e-01, 4.98347166e-02],\n",
       "       [9.29017074e-01, 7.09829263e-02],\n",
       "       [8.74859606e-01, 1.25140394e-01],\n",
       "       [8.92048969e-01, 1.07951031e-01],\n",
       "       [9.34336646e-01, 6.56633537e-02],\n",
       "       [8.99840300e-01, 1.00159700e-01],\n",
       "       [8.87956869e-01, 1.12043131e-01],\n",
       "       [9.96823503e-01, 3.17649710e-03],\n",
       "       [9.96823503e-01, 3.17649710e-03],\n",
       "       [9.53978487e-01, 4.60215126e-02],\n",
       "       [9.36855296e-01, 6.31447038e-02],\n",
       "       [8.96009117e-01, 1.03990883e-01],\n",
       "       [9.91019634e-01, 8.98036595e-03],\n",
       "       [9.39283616e-01, 6.07163838e-02],\n",
       "       [8.87956869e-01, 1.12043131e-01],\n",
       "       [9.41624370e-01, 5.83756296e-02],\n",
       "       [9.91384143e-01, 8.61585697e-03],\n",
       "       [9.88003431e-01, 1.19965694e-02],\n",
       "       [9.29017074e-01, 7.09829263e-02],\n",
       "       [9.96247519e-01, 3.75248098e-03],\n",
       "       [9.13935859e-01, 8.60641409e-02],\n",
       "       [9.39283616e-01, 6.07163838e-02],\n",
       "       [9.13935859e-01, 8.60641409e-02],\n",
       "       [9.10590269e-01, 8.94097310e-02],\n",
       "       [9.10590269e-01, 8.94097310e-02],\n",
       "       [9.53978487e-01, 4.60215126e-02],\n",
       "       [9.10590269e-01, 8.94097310e-02],\n",
       "       [9.43880275e-01, 5.61197250e-02],\n",
       "       [9.39283616e-01, 6.07163838e-02],\n",
       "       [9.55779392e-01, 4.42206077e-02],\n",
       "       [8.99840300e-01, 1.00159700e-01],\n",
       "       [9.82618749e-01, 1.73812512e-02],\n",
       "       [9.88488944e-01, 1.15110561e-02],\n",
       "       [9.81131655e-01, 1.88683448e-02],\n",
       "       [9.53978487e-01, 4.60215126e-02],\n",
       "       [9.83318506e-01, 1.66814938e-02],\n",
       "       [9.83318506e-01, 1.66814938e-02],\n",
       "       [9.81131655e-01, 1.88683448e-02],\n",
       "       [9.86422267e-01, 1.35777334e-02],\n",
       "       [6.08183201e-01, 3.91816799e-01],\n",
       "       [9.17167650e-01, 8.28323504e-02],\n",
       "       [7.95657389e-01, 2.04342611e-01],\n",
       "       [7.59574919e-01, 2.40425081e-01],\n",
       "       [7.81727605e-01, 2.18272395e-01],\n",
       "       [8.02370224e-01, 1.97629776e-01],\n",
       "       [7.81727605e-01, 2.18272395e-01],\n",
       "       [7.81727605e-01, 2.18272395e-01],\n",
       "       [9.23301924e-01, 7.66980762e-02],\n",
       "       [4.42953766e-01, 5.57046234e-01],\n",
       "       [2.40695233e-01, 7.59304767e-01],\n",
       "       [8.50128209e-01, 1.49871791e-01],\n",
       "       [9.23301924e-01, 7.66980762e-02],\n",
       "       [7.74510655e-01, 2.25489345e-01],\n",
       "       [2.72563412e-01, 7.27436588e-01],\n",
       "       [8.15293899e-01, 1.84706101e-01],\n",
       "       [8.27554085e-01, 1.72445915e-01],\n",
       "       [7.95657389e-01, 2.04342611e-01],\n",
       "       [8.21506370e-01, 1.78493630e-01],\n",
       "       [4.74080573e-01, 5.25919427e-01],\n",
       "       [9.55779392e-01, 4.42206077e-02],\n",
       "       [8.39161024e-01, 1.60838976e-01],\n",
       "       [7.51858015e-01, 2.48141985e-01],\n",
       "       [8.27554085e-01, 1.72445915e-01],\n",
       "       [8.15293899e-01, 1.84706101e-01],\n",
       "       [8.50128209e-01, 1.49871791e-01],\n",
       "       [9.63818547e-01, 3.61814533e-02],\n",
       "       [9.46053995e-01, 5.39460046e-02],\n",
       "       [6.37630347e-01, 3.62369653e-01],\n",
       "       [8.50128209e-01, 1.49871791e-01],\n",
       "       [8.44723628e-01, 1.55276372e-01],\n",
       "       [7.10852127e-01, 2.89147873e-01],\n",
       "       [9.85850833e-01, 1.41491672e-02],\n",
       "       [9.92997897e-01, 7.00210348e-03],\n",
       "       [9.43880275e-01, 5.61197250e-02],\n",
       "       [4.63670444e-01, 5.36329556e-01],\n",
       "       [2.56304856e-01, 7.43695144e-01],\n",
       "       [9.71617257e-01, 2.83827432e-02],\n",
       "       [9.71617257e-01, 2.83827432e-02],\n",
       "       [9.95379211e-01, 4.62078891e-03],\n",
       "       [9.88955028e-01, 1.10449724e-02],\n",
       "       [9.89831918e-01, 1.01680815e-02],\n",
       "       [9.92701158e-01, 7.29884243e-03],\n",
       "       [9.20288668e-01, 7.97113323e-02],\n",
       "       [9.39283616e-01, 6.07163838e-02],\n",
       "       [8.96009117e-01, 1.03990883e-01],\n",
       "       [8.60471912e-01, 1.39528088e-01],\n",
       "       [5.36697269e-01, 4.63302731e-01],\n",
       "       [7.88776565e-01, 2.11223435e-01],\n",
       "       [8.27554085e-01, 1.72445915e-01],\n",
       "       [8.99840300e-01, 1.00159700e-01],\n",
       "       [7.19368281e-01, 2.80631719e-01],\n",
       "       [8.21506370e-01, 1.78493630e-01],\n",
       "       [6.37630347e-01, 3.62369653e-01],\n",
       "       [9.48148145e-01, 5.18518549e-02],\n",
       "       [7.67126168e-01, 2.32873832e-01],\n",
       "       [9.20288668e-01, 7.97113323e-02],\n",
       "       [8.50128209e-01, 1.49871791e-01],\n",
       "       [6.75311991e-01, 3.24688009e-01],\n",
       "       [7.10852127e-01, 2.89147873e-01],\n",
       "       [8.83729869e-01, 1.16270131e-01],\n",
       "       [8.83729869e-01, 1.16270131e-01],\n",
       "       [9.41624370e-01, 5.83756296e-02],\n",
       "       [7.81727605e-01, 2.18272395e-01],\n",
       "       [9.23301924e-01, 7.66980762e-02],\n",
       "       [9.07127841e-01, 9.28721593e-02],\n",
       "       [9.60787147e-01, 3.92128528e-02],\n",
       "       [7.59574919e-01, 2.40425081e-01],\n",
       "       [7.81727605e-01, 2.18272395e-01],\n",
       "       [7.02184529e-01, 2.97815471e-01],\n",
       "       [7.27729682e-01, 2.72270318e-01],\n",
       "       [9.62332137e-01, 3.76678629e-02],\n",
       "       [8.44723628e-01, 1.55276372e-01],\n",
       "       [5.57411075e-01, 4.42588925e-01],\n",
       "       [9.29017074e-01, 7.09829263e-02],\n",
       "       [9.26210406e-01, 7.37895944e-02],\n",
       "       [9.55779392e-01, 4.42206077e-02],\n",
       "       [8.92048969e-01, 1.07951031e-01],\n",
       "       [8.74859606e-01, 1.25140394e-01],\n",
       "       [8.87956869e-01, 1.12043131e-01],\n",
       "       [5.88089656e-01, 4.11910344e-01],\n",
       "       [9.85850833e-01, 1.41491672e-02],\n",
       "       [9.93282653e-01, 6.71734701e-03],\n",
       "       [9.31724856e-01, 6.82751436e-02],\n",
       "       [9.03545531e-01, 9.64544686e-02],\n",
       "       [9.20288668e-01, 7.97113323e-02],\n",
       "       [9.13935859e-01, 8.60641409e-02],\n",
       "       [9.94978289e-01, 5.02171076e-03],\n",
       "       [7.95657389e-01, 2.04342611e-01],\n",
       "       [7.10852127e-01, 2.89147873e-01],\n",
       "       [7.81727605e-01, 2.18272395e-01],\n",
       "       [9.89831918e-01, 1.01680815e-02],\n",
       "       [9.80341997e-01, 1.96580025e-02],\n",
       "       [9.88997742e-04, 9.99011002e-01],\n",
       "       [4.84513283e-01, 5.15486717e-01],\n",
       "       [7.67126168e-01, 2.32873832e-01],\n",
       "       [7.67126168e-01, 2.32873832e-01],\n",
       "       [6.93369184e-01, 3.06630816e-01],\n",
       "       [5.15856038e-01, 4.84143962e-01],\n",
       "       [5.88089656e-01, 4.11910344e-01],\n",
       "       [7.51858015e-01, 2.48141985e-01],\n",
       "       [6.72722067e-03, 9.93272779e-01],\n",
       "       [7.30956453e-03, 9.92690435e-01],\n",
       "       [8.65415687e-01, 1.34584313e-01],\n",
       "       [2.04583140e-01, 7.95416860e-01],\n",
       "       [8.02370224e-01, 1.97629776e-01],\n",
       "       [7.67126168e-01, 2.32873832e-01],\n",
       "       [9.39283616e-01, 6.07163838e-02],\n",
       "       [7.19368281e-01, 2.80631719e-01],\n",
       "       [6.84410180e-01, 3.15589820e-01],\n",
       "       [7.81727605e-01, 2.18272395e-01],\n",
       "       [6.08183201e-01, 3.91816799e-01],\n",
       "       [2.64354065e-01, 7.35645935e-01],\n",
       "       [9.95379211e-01, 4.62078891e-03],\n",
       "       [9.98152822e-01, 1.84717826e-03],\n",
       "       [5.36697269e-01, 4.63302731e-01],\n",
       "       [1.72657045e-01, 8.27342955e-01],\n",
       "       [9.29017074e-01, 7.09829263e-02],\n",
       "       [2.89451910e-01, 7.10548090e-01],\n",
       "       [9.03545531e-01, 9.64544686e-02],\n",
       "       [5.57411075e-01, 4.42588925e-01],\n",
       "       [9.65834189e-02, 9.03416581e-01],\n",
       "       [1.88957391e-02, 9.81104261e-01],\n",
       "       [3.43615549e-01, 6.56384451e-01],\n",
       "       [3.62711396e-01, 6.37288604e-01],\n",
       "       [2.96010381e-02, 9.70398962e-01],\n",
       "       [5.19246026e-02, 9.48075397e-01],\n",
       "       [1.12190334e-01, 8.87809666e-01],\n",
       "       [3.20994708e-02, 9.67900529e-01],\n",
       "       [5.84569658e-02, 9.41543034e-01],\n",
       "       [1.55470430e-01, 8.44529570e-01],\n",
       "       [9.39283616e-01, 6.07163838e-02],\n",
       "       [8.29447611e-02, 9.17055239e-01],\n",
       "       [3.53104849e-01, 6.46895151e-01],\n",
       "       [1.44806143e-01, 8.55193857e-01],\n",
       "       [5.47074551e-01, 4.52925449e-01],\n",
       "       [4.74080573e-01, 5.25919427e-01],\n",
       "       [5.26288104e-01, 4.73711896e-01],\n",
       "       [2.31865780e-02, 9.76813422e-01],\n",
       "       [1.30481019e-02, 9.86951898e-01],\n",
       "       [3.53104849e-01, 6.46895151e-01],\n",
       "       [3.25012329e-01, 6.74987671e-01],\n",
       "       [4.02177826e-01, 5.97822174e-01],\n",
       "       [2.72563412e-01, 7.27436588e-01]])"
      ]
     },
     "execution_count": 14,
     "metadata": {},
     "output_type": "execute_result"
    }
   ],
   "source": [
    "logreg.predict_proba(X)"
   ]
  },
  {
   "cell_type": "code",
   "execution_count": 15,
   "metadata": {
    "scrolled": true
   },
   "outputs": [],
   "source": [
    "# store the predicted probabilites of class 1\n",
    "assorted_pred_prob = logreg.predict_proba(X)[:, 1]"
   ]
  },
  {
   "cell_type": "code",
   "execution_count": 16,
   "metadata": {
    "scrolled": true
   },
   "outputs": [
    {
     "data": {
      "text/plain": [
       "array([0.04248704, 0.11627013, 0.2182724 , 0.08940973, 0.07378959,\n",
       "       0.28063172, 0.04983472, 0.03475158, 0.12063494, 0.11627013,\n",
       "       0.23287383, 0.08283235, 0.13458431, 0.08283235, 0.09645447,\n",
       "       0.07098293, 0.053946  , 0.01810982, 0.05837563, 0.34328211,\n",
       "       0.1847061 , 0.00149928, 0.08940973, 0.11204313, 0.05185185,\n",
       "       0.06566335, 0.13952809, 0.10399088, 0.14987179, 0.08606414,\n",
       "       0.09287216, 0.04983472, 0.07098293, 0.12514039, 0.10795103,\n",
       "       0.06566335, 0.1001597 , 0.11204313, 0.0031765 , 0.0031765 ,\n",
       "       0.04602151, 0.0631447 , 0.10399088, 0.00898037, 0.06071638,\n",
       "       0.11204313, 0.05837563, 0.00861586, 0.01199657, 0.07098293,\n",
       "       0.00375248, 0.08606414, 0.06071638, 0.08606414, 0.08940973,\n",
       "       0.08940973, 0.04602151, 0.08940973, 0.05611973, 0.06071638,\n",
       "       0.04422061, 0.1001597 , 0.01738125, 0.01151106, 0.01886834,\n",
       "       0.04602151, 0.01668149, 0.01668149, 0.01886834, 0.01357773,\n",
       "       0.3918168 , 0.08283235, 0.20434261, 0.24042508, 0.2182724 ,\n",
       "       0.19762978, 0.2182724 , 0.2182724 , 0.07669808, 0.55704623,\n",
       "       0.75930477, 0.14987179, 0.07669808, 0.22548935, 0.72743659,\n",
       "       0.1847061 , 0.17244591, 0.20434261, 0.17849363, 0.52591943,\n",
       "       0.04422061, 0.16083898, 0.24814199, 0.17244591, 0.1847061 ,\n",
       "       0.14987179, 0.03618145, 0.053946  , 0.36236965, 0.14987179,\n",
       "       0.15527637, 0.28914787, 0.01414917, 0.0070021 , 0.05611973,\n",
       "       0.53632956, 0.74369514, 0.02838274, 0.02838274, 0.00462079,\n",
       "       0.01104497, 0.01016808, 0.00729884, 0.07971133, 0.06071638,\n",
       "       0.10399088, 0.13952809, 0.46330273, 0.21122344, 0.17244591,\n",
       "       0.1001597 , 0.28063172, 0.17849363, 0.36236965, 0.05185185,\n",
       "       0.23287383, 0.07971133, 0.14987179, 0.32468801, 0.28914787,\n",
       "       0.11627013, 0.11627013, 0.05837563, 0.2182724 , 0.07669808,\n",
       "       0.09287216, 0.03921285, 0.24042508, 0.2182724 , 0.29781547,\n",
       "       0.27227032, 0.03766786, 0.15527637, 0.44258892, 0.07098293,\n",
       "       0.07378959, 0.04422061, 0.10795103, 0.12514039, 0.11204313,\n",
       "       0.41191034, 0.01414917, 0.00671735, 0.06827514, 0.09645447,\n",
       "       0.07971133, 0.08606414, 0.00502171, 0.20434261, 0.28914787,\n",
       "       0.2182724 , 0.01016808, 0.019658  , 0.999011  , 0.51548672,\n",
       "       0.23287383, 0.23287383, 0.30663082, 0.48414396, 0.41191034,\n",
       "       0.24814199, 0.99327278, 0.99269044, 0.13458431, 0.79541686,\n",
       "       0.19762978, 0.23287383, 0.06071638, 0.28063172, 0.31558982,\n",
       "       0.2182724 , 0.3918168 , 0.73564594, 0.00462079, 0.00184718,\n",
       "       0.46330273, 0.82734296, 0.07098293, 0.71054809, 0.09645447,\n",
       "       0.44258892, 0.90341658, 0.98110426, 0.65638445, 0.6372886 ,\n",
       "       0.97039896, 0.9480754 , 0.88780967, 0.96790053, 0.94154303,\n",
       "       0.84452957, 0.06071638, 0.91705524, 0.64689515, 0.85519386,\n",
       "       0.45292545, 0.52591943, 0.4737119 , 0.97681342, 0.9869519 ,\n",
       "       0.64689515, 0.67498767, 0.59782217, 0.72743659])"
      ]
     },
     "execution_count": 16,
     "metadata": {},
     "output_type": "execute_result"
    }
   ],
   "source": [
    "assorted_pred_prob"
   ]
  },
  {
   "cell_type": "code",
   "execution_count": 17,
   "metadata": {},
   "outputs": [],
   "source": [
    "glass['assorted_pred_prob'] = sorted(assorted_pred_prob)"
   ]
  },
  {
   "cell_type": "code",
   "execution_count": 18,
   "metadata": {
    "scrolled": true
   },
   "outputs": [
    {
     "data": {
      "text/plain": [
       "[<matplotlib.lines.Line2D at 0x18c43b60780>]"
      ]
     },
     "execution_count": 18,
     "metadata": {},
     "output_type": "execute_result"
    },
    {
     "data": {
      "image/png": "[encoded data removed]",
      "text/plain": [
       "<Figure size 432x288 with 1 Axes>"
      ]
     },
     "execution_count": 18,
     "metadata": {
      "needs_background": "light"
     },
     "output_type": "execute_result"
    }
   ],
   "source": [
    "# plot the predicted probabilities\n",
    "plt.scatter(glass.al, glass.assorted)\n",
    "plt.plot(glass.al, glass.assorted_pred_prob, color='red')"
   ]
  },
  {
   "cell_type": "code",
   "execution_count": 20,
   "metadata": {},
   "outputs": [
    {
     "name": "stdout",
     "output_type": "stream",
     "text": [
      "[0]\n",
      "[1]\n",
      "[1]\n"
     ]
    }
   ],
   "source": [
    "# examine some example predictions\n",
    "print (logreg.predict([[1]]))\n",
    "print (logreg.predict([[2]]))\n",
    "print (logreg.predict([[3]]))"
   ]
  },
  {
   "cell_type": "code",
   "execution_count": 19,
   "metadata": {
    "scrolled": true
   },
   "outputs": [
    {
     "name": "stdout",
     "output_type": "stream",
     "text": [
      "[[0.97161726 0.02838274]]\n",
      "[[0.34361555 0.65638445]]\n",
      "[[0.00794192 0.99205808]]\n"
     ]
    }
   ],
   "source": [
    "# examine some example predictions\n",
    "print (logreg.predict_proba([[1]]))\n",
    "print (logreg.predict_proba([[2]]))\n",
    "print (logreg.predict_proba([[3]]))"
   ]
  },
  {
   "cell_type": "markdown",
   "metadata": {},
   "source": [
    "#### What is this? \n",
    "* The first column indicates the predicted probability of **class 0**, and the second column indicates the predicted probability of **class 1**."
   ]
  },
  {
   "cell_type": "markdown",
   "metadata": {},
   "source": [
    "## PART 3: PROBABILITY, ODDS, e, LOG, LOG-ODDS\n",
    "\n",
    "\n",
    "\n",
    "## LOGISTIC REGRESSION ANALYSIS: UNDERSTANDING ODDS AND PROBABILITY\n",
    "\n",
    "Probability and odds measure the same thing: **the likelihood of a specific outcome**.\n",
    "\n",
    "People use the terms odds and probability interchangeably in casual usage, but that is unfortunate. It just creates confusion because they are not equivalent.\n",
    "\n",
    "They measure the same thing on different scales. Imagine how confusing it would be if people used degrees Celsius and degrees Fahrenheit interchangeably. “It’s going to be 35 degrees today” could really make you dress the wrong way.\n",
    "\n",
    "In measuring the likelihood of any outcome, we need to know two things: how many times something happened and how many times it could have happened, or equivalently, how many times it didn’t. The outcome of interest is called a success, whether it’s a good outcome or not.\n",
    "\n",
    "The other outcome is a failure. Each time one of the outcomes could occur is called a trial. Since each trial must end in success or failure, number of successes and number of failures adds up to total number of trials.\n",
    "\n",
    "Probability is the number of times success occurred compared to the total number of trials.\n",
    "\n",
    "Odds are the number of times success occurred compared to the number of times failure occurred.\n",
    "\n",
    "For example, to predict the likelihood of accidents at a particular intersection, each car that goes through the intersection is considered a trial. Each trial has one of two outcomes: accident or safe passage. If the outcome we’re most interested in modeling is an accident, that is a success (no matter how morbid it sounds).\n",
    "\n",
    "**Probability(success)** = number of successes/total number of trials\n",
    "\n",
    "**Odds(success)** = number of successes/number of failures\n",
    "\n",
    "Odds are often written as:\n",
    "\n",
    "    `Number of successes:1 failure`\n",
    "\n",
    "    which is read as the number of successes for every 1 failure. But often the :1 is dropped.\n",
    "\n",
    "You will see a lot of researchers get stuck when learning logistic regression because they are not used to thinking of likelihood on an odds scale.\n",
    "\n",
    "- Equal odds are 1. 1 success for every 1 failure. 1:1\n",
    "- Equal probabilities are .5. 1 success for every 2 trials.\n",
    "\n",
    "\n",
    "- Odds can range from 0 to infinity. \n",
    "- Odds greater than 1 indicates success is more likely than failure. \n",
    "- Odds less than 1 indicates failure is more likely than success.\n",
    "\n",
    "\n",
    "- Probability can range from 0 to 1. \n",
    "- Probability greater than .5 indicates success is more likely than failure. \n",
    "- Probability less than .5 indicates failure is more likely than success.\n",
    "\n",
    "\n",
    "#### THE EXAMPLE: \n",
    "\n",
    "In the last month, data from a particular intersection indicate that of the 1,354 cars that drove through it, 72 got into an accident.\n",
    "\n",
    "- 72 Successes = Accident\n",
    "- 1282 Failures = Safe Passage (1,354 – 72)\n",
    "\n",
    "\n",
    "- Failures = Total – Successes\n",
    "\n",
    "\n",
    "- Pr(Accident) = 72/1354 = .053\n",
    "- Pr(Safe Passage) = 1282/1354 = .947\n",
    "\n",
    "\n",
    "- Odds(Accident) = 72/1282 = .056\n",
    "- Odds(Safety) = 1282/72 = 17.87\n",
    "\n",
    "\n",
    "Now get out your calculator, because you’ll see how these relate to each other.\n",
    "\n",
    "- Odds(Accident) = Pr(Accident)/Pr(Safety) = .053/.947"
   ]
  },
  {
   "cell_type": "markdown",
   "metadata": {},
   "source": [
    "# $$probability = \\frac {one\\ outcome} {all\\ outcomes}$$\n",
    "# $$odds = \\frac {one\\ outcome} {all\\ other\\ outcomes}$$"
   ]
  },
  {
   "cell_type": "markdown",
   "metadata": {},
   "source": [
    "#### Examples:\n",
    "- Dice roll of 1: probability = 1/6, odds = 1/5\n",
    "- Even dice roll: probability = 3/6, odds = 3/3 = 1\n",
    "- Dice roll less than 5: probability = 4/6, odds = 4/2 = 2"
   ]
  },
  {
   "cell_type": "markdown",
   "metadata": {},
   "source": [
    "# $$odds = \\frac {probability} {1 - probability}$$\n",
    "# $$probability = \\frac {odds} {1 + odds}$$"
   ]
  },
  {
   "cell_type": "code",
   "execution_count": 21,
   "metadata": {
    "scrolled": true
   },
   "outputs": [
    {
     "data": {
      "text/html": [
       "<div>\n",
       "<style scoped>\n",
       "    .dataframe tbody tr th:only-of-type {\n",
       "        vertical-align: middle;\n",
       "    }\n",
       "\n",
       "    .dataframe tbody tr th {\n",
       "        vertical-align: top;\n",
       "    }\n",
       "\n",
       "    .dataframe thead th {\n",
       "        text-align: right;\n",
       "    }\n",
       "</style>\n",
       "<table border=\"1\" class=\"dataframe\">\n",
       "  <thead>\n",
       "    <tr style=\"text-align: right;\">\n",
       "      <th></th>\n",
       "      <th>probability</th>\n",
       "      <th>odds</th>\n",
       "    </tr>\n",
       "  </thead>\n",
       "  <tbody>\n",
       "    <tr>\n",
       "      <th>0</th>\n",
       "      <td>0.10</td>\n",
       "      <td>0.111111</td>\n",
       "    </tr>\n",
       "    <tr>\n",
       "      <th>1</th>\n",
       "      <td>0.20</td>\n",
       "      <td>0.250000</td>\n",
       "    </tr>\n",
       "    <tr>\n",
       "      <th>2</th>\n",
       "      <td>0.25</td>\n",
       "      <td>0.333333</td>\n",
       "    </tr>\n",
       "    <tr>\n",
       "      <th>3</th>\n",
       "      <td>0.50</td>\n",
       "      <td>1.000000</td>\n",
       "    </tr>\n",
       "    <tr>\n",
       "      <th>4</th>\n",
       "      <td>0.60</td>\n",
       "      <td>1.500000</td>\n",
       "    </tr>\n",
       "    <tr>\n",
       "      <th>5</th>\n",
       "      <td>0.80</td>\n",
       "      <td>4.000000</td>\n",
       "    </tr>\n",
       "    <tr>\n",
       "      <th>6</th>\n",
       "      <td>0.90</td>\n",
       "      <td>9.000000</td>\n",
       "    </tr>\n",
       "  </tbody>\n",
       "</table>\n",
       "</div>"
      ],
      "text/plain": [
       "   probability      odds\n",
       "0         0.10  0.111111\n",
       "1         0.20  0.250000\n",
       "2         0.25  0.333333\n",
       "3         0.50  1.000000\n",
       "4         0.60  1.500000\n",
       "5         0.80  4.000000\n",
       "6         0.90  9.000000"
      ]
     },
     "execution_count": 21,
     "metadata": {},
     "output_type": "execute_result"
    }
   ],
   "source": [
    "# create a table of probability versus odds\n",
    "table = pd.DataFrame({'probability':[0.1, 0.2, 0.25, 0.5, 0.6, 0.8, 0.9]})\n",
    "table['odds'] = table.probability/(1 - table.probability)\n",
    "table"
   ]
  },
  {
   "cell_type": "markdown",
   "metadata": {},
   "source": [
    "#### What is **e**? It is the base rate of growth shared by all continually growing processes:"
   ]
  },
  {
   "cell_type": "code",
   "execution_count": 22,
   "metadata": {
    "scrolled": true
   },
   "outputs": [
    {
     "data": {
      "text/plain": [
       "2.718281828459045"
      ]
     },
     "execution_count": 22,
     "metadata": {},
     "output_type": "execute_result"
    }
   ],
   "source": [
    "# exponential function: e^1\n",
    "np.exp(1)"
   ]
  },
  {
   "cell_type": "markdown",
   "metadata": {},
   "source": [
    "#### What is a **(natural) log**? It gives you the time needed to reach a certain level of growth:"
   ]
  },
  {
   "cell_type": "code",
   "execution_count": 23,
   "metadata": {
    "scrolled": true
   },
   "outputs": [
    {
     "data": {
      "text/plain": [
       "0.999896315728952"
      ]
     },
     "execution_count": 23,
     "metadata": {},
     "output_type": "execute_result"
    }
   ],
   "source": [
    "# time needed to grow 1 unit to 2.718 units\n",
    "np.log(2.718)"
   ]
  },
  {
   "cell_type": "markdown",
   "metadata": {},
   "source": [
    "* It is also the **inverse** of the exponential function:"
   ]
  },
  {
   "cell_type": "code",
   "execution_count": 24,
   "metadata": {
    "scrolled": true
   },
   "outputs": [
    {
     "data": {
      "text/plain": [
       "1.0"
      ]
     },
     "execution_count": 24,
     "metadata": {},
     "output_type": "execute_result"
    }
   ],
   "source": [
    "np.log(np.exp(1))"
   ]
  },
  {
   "cell_type": "code",
   "execution_count": 25,
   "metadata": {
    "scrolled": true
   },
   "outputs": [
    {
     "data": {
      "text/html": [
       "<div>\n",
       "<style scoped>\n",
       "    .dataframe tbody tr th:only-of-type {\n",
       "        vertical-align: middle;\n",
       "    }\n",
       "\n",
       "    .dataframe tbody tr th {\n",
       "        vertical-align: top;\n",
       "    }\n",
       "\n",
       "    .dataframe thead th {\n",
       "        text-align: right;\n",
       "    }\n",
       "</style>\n",
       "<table border=\"1\" class=\"dataframe\">\n",
       "  <thead>\n",
       "    <tr style=\"text-align: right;\">\n",
       "      <th></th>\n",
       "      <th>probability</th>\n",
       "      <th>odds</th>\n",
       "      <th>logodds</th>\n",
       "    </tr>\n",
       "  </thead>\n",
       "  <tbody>\n",
       "    <tr>\n",
       "      <th>0</th>\n",
       "      <td>0.10</td>\n",
       "      <td>0.111111</td>\n",
       "      <td>-2.197225</td>\n",
       "    </tr>\n",
       "    <tr>\n",
       "      <th>1</th>\n",
       "      <td>0.20</td>\n",
       "      <td>0.250000</td>\n",
       "      <td>-1.386294</td>\n",
       "    </tr>\n",
       "    <tr>\n",
       "      <th>2</th>\n",
       "      <td>0.25</td>\n",
       "      <td>0.333333</td>\n",
       "      <td>-1.098612</td>\n",
       "    </tr>\n",
       "    <tr>\n",
       "      <th>3</th>\n",
       "      <td>0.50</td>\n",
       "      <td>1.000000</td>\n",
       "      <td>0.000000</td>\n",
       "    </tr>\n",
       "    <tr>\n",
       "      <th>4</th>\n",
       "      <td>0.60</td>\n",
       "      <td>1.500000</td>\n",
       "      <td>0.405465</td>\n",
       "    </tr>\n",
       "    <tr>\n",
       "      <th>5</th>\n",
       "      <td>0.80</td>\n",
       "      <td>4.000000</td>\n",
       "      <td>1.386294</td>\n",
       "    </tr>\n",
       "    <tr>\n",
       "      <th>6</th>\n",
       "      <td>0.90</td>\n",
       "      <td>9.000000</td>\n",
       "      <td>2.197225</td>\n",
       "    </tr>\n",
       "  </tbody>\n",
       "</table>\n",
       "</div>"
      ],
      "text/plain": [
       "   probability      odds   logodds\n",
       "0         0.10  0.111111 -2.197225\n",
       "1         0.20  0.250000 -1.386294\n",
       "2         0.25  0.333333 -1.098612\n",
       "3         0.50  1.000000  0.000000\n",
       "4         0.60  1.500000  0.405465\n",
       "5         0.80  4.000000  1.386294\n",
       "6         0.90  9.000000  2.197225"
      ]
     },
     "execution_count": 25,
     "metadata": {},
     "output_type": "execute_result"
    }
   ],
   "source": [
    "# add log-odds to the table\n",
    "table['logodds'] = np.log(table.odds)\n",
    "table"
   ]
  },
  {
   "cell_type": "markdown",
   "metadata": {},
   "source": [
    "## PART 4: WHAT IS LOGISTIC REGRESSION?"
   ]
  },
  {
   "cell_type": "markdown",
   "metadata": {},
   "source": [
    "### **Linear regression:** continuous response is modeled as a linear combination of the features:\n",
    "# $$y = \\beta_0 + \\beta_1x$$"
   ]
  },
  {
   "cell_type": "markdown",
   "metadata": {},
   "source": [
    "### **Logistic regression:** log-odds of a categorical response being \"true\" (1) is modeled as a linear combination of the features:\n",
    "# $$\\log \\left({p\\over 1-p}\\right) = \\beta_0 + \\beta_1x$$"
   ]
  },
  {
   "cell_type": "markdown",
   "metadata": {},
   "source": [
    "* This is called the **logit function**."
   ]
  },
  {
   "cell_type": "markdown",
   "metadata": {},
   "source": [
    "#### Probability is sometimes written as pi:\n",
    "# $$\\log \\left({\\pi\\over 1-\\pi}\\right) = \\beta_0 + \\beta_1x$$"
   ]
  },
  {
   "cell_type": "markdown",
   "metadata": {},
   "source": [
    "#### The equation can be rearranged into the **logistic function**:\n",
    "# $$\\pi = \\frac{e^{\\beta_0 + \\beta_1x}} {1 + e^{\\beta_0 + \\beta_1x}}$$"
   ]
  },
  {
   "cell_type": "markdown",
   "metadata": {},
   "source": [
    "#### In other words:\n",
    "- Logistic regression outputs the **probabilities of a specific class**\n",
    "- Those probabilities can be converted into **class predictions**"
   ]
  },
  {
   "cell_type": "markdown",
   "metadata": {},
   "source": [
    "#### The **logistic function** has some nice properties:\n",
    "- Takes on an \"s\" shape\n",
    "- Output is bounded by 0 and 1"
   ]
  },
  {
   "cell_type": "markdown",
   "metadata": {},
   "source": [
    "#### Notes:\n",
    "- **Multinomial logistic regression** is used when there are more than 2 classes.\n",
    "- Coefficients are estimated using **maximum likelihood estimation**, meaning that we choose parameters that maximize the likelihood of the observed data."
   ]
  },
  {
   "cell_type": "markdown",
   "metadata": {},
   "source": [
    "## PART 5: COMPARING LOGISTIC REGRESSION WITH OTHER OTHER MODELS"
   ]
  },
  {
   "cell_type": "markdown",
   "metadata": {},
   "source": [
    "### Advantages of logistic regression:\n",
    "- Highly interpretable (if you remember how)\n",
    "- Model training and prediction are fast\n",
    "- No tuning is required (excluding regularization)\n",
    "- Features don't need scaling\n",
    "- Can perform well with a small number of observations\n",
    "- Outputs well-calibrated predicted probabilities\n",
    "\n",
    "### Disadvantages of logistic regression:\n",
    "- Presumes a linear relationship between the features and the log-odds of the response\n",
    "- Performance is (generally) not competitive with the best supervised learning methods\n",
    "- Sensitive to irrelevant features\n",
    "- Can't automatically learn feature interactions"
   ]
  },
  {
   "cell_type": "markdown",
   "metadata": {},
   "source": [
    "# REFERENCES\n",
    "\n",
    "1. [Explaining Logistic Regression](http://www.theanalysisfactor.com/explaining-logistic-regression/)\n",
    "2. [Why use Odds Rations](http://www.theanalysisfactor.com/why-use-odds-ratios/)\n",
    "3. [The Intuitive Guide to Exponential Functions & e](https://betterexplained.com/articles/an-intuitive-guide-to-exponential-functions-e/)\n",
    "4. [Demystifying the Natural Logarithm](https://betterexplained.com/articles/demystifying-the-natural-logarithm-ln/)"
   ]
  }
 ],
 "metadata": {
  "anaconda-cloud": {},
  "kernelspec": {
   "display_name": "Python 3 (ipykernel)",
   "language": "python",
   "name": "python3"
  },
  "language_info": {
   "codemirror_mode": {
    "name": "ipython",
    "version": 3
   },
   "file_extension": ".py",
   "mimetype": "text/x-python",
   "name": "python",
   "nbconvert_exporter": "python",
   "pygments_lexer": "ipython3",
   "version": "3.11.5"
  }
 },
 "nbformat": 4,
 "nbformat_minor": 4
}
